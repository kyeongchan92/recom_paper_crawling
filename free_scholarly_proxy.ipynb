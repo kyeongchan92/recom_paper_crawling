{
 "cells": [
  {
   "cell_type": "code",
   "execution_count": 1,
   "id": "1590dcff-a3e7-4e93-afbc-2a23850be116",
   "metadata": {},
   "outputs": [],
   "source": [
    "from scholarly import scholarly"
   ]
  },
  {
   "cell_type": "code",
   "execution_count": 3,
   "id": "7ef84389-5146-488c-a7c3-e01112a114e3",
   "metadata": {},
   "outputs": [],
   "source": [
    "search_query = scholarly.search_pubs('MACRec')"
   ]
  },
  {
   "cell_type": "code",
   "execution_count": 4,
   "id": "bd7cd2e4-db66-42a5-9617-e92c7cb733a4",
   "metadata": {},
   "outputs": [
    {
     "data": {
      "text/plain": [
       "<scholarly.publication_parser._SearchScholarIterator at 0x114407a30>"
      ]
     },
     "execution_count": 4,
     "metadata": {},
     "output_type": "execute_result"
    }
   ],
   "source": [
    "search_query"
   ]
  }
 ],
 "metadata": {
  "kernelspec": {
   "display_name": "recom_paper_crawling",
   "language": "python",
   "name": "recom_paper_crawling"
  },
  "language_info": {
   "codemirror_mode": {
    "name": "ipython",
    "version": 3
   },
   "file_extension": ".py",
   "mimetype": "text/x-python",
   "name": "python",
   "nbconvert_exporter": "python",
   "pygments_lexer": "ipython3",
   "version": "3.10.16"
  }
 },
 "nbformat": 4,
 "nbformat_minor": 5
}
